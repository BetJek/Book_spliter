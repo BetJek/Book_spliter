{
 "cells": [
  {
   "cell_type": "code",
   "execution_count": 1,
   "metadata": {},
   "outputs": [],
   "source": [
    "import random\n",
    "import pickle\n",
    "import translater\n",
    "import csv\n",
    "import google_1\n",
    "import openpyxl"
   ]
  },
  {
   "cell_type": "code",
   "execution_count": 6,
   "metadata": {},
   "outputs": [
    {
     "name": "stdout",
     "output_type": "stream",
     "text": [
      "введите имя файла рус.txt\n",
      "          рус.txt -  файл загружается\n",
      "          рус.txt -  файл загружен\n",
      "          Длина файла рус.txt = 19170 слов\n",
      "<class 'list'>\n"
     ]
    }
   ],
   "source": [
    "file1 = translater.load_rus()"
   ]
  },
  {
   "cell_type": "code",
   "execution_count": 7,
   "metadata": {},
   "outputs": [
    {
     "data": {
      "text/plain": [
       "['',\n",
       " 'декабрь',\n",
       " 'периодической',\n",
       " 'действительности',\n",
       " 'птилтнвлнныктлги',\n",
       " 'скрипта',\n",
       " 'ключение',\n",
       " 'стандартным',\n",
       " 'режимеписание',\n",
       " 'сигналу']"
      ]
     },
     "execution_count": 7,
     "metadata": {},
     "output_type": "execute_result"
    }
   ],
   "source": []
  },
  {
   "cell_type": "code",
   "execution_count": 8,
   "metadata": {},
   "outputs": [],
   "source": [
    "def save(path, data1):\n",
    "    '''принимает список и сохраняет его в csv'''\n",
    "    my_list = []\n",
    "    data = [['ru','eng','color'], ]\n",
    "    for word in data1:\n",
    "        data.append([word, ''])\n",
    "    fieldnames = data[0]\n",
    "    for values in data[1:]:\n",
    "        inner = dict(zip(fieldnames, values))\n",
    "        my_list.append(inner)\n",
    "    translater.save_word(path, fieldnames, my_list)"
   ]
  },
  {
   "cell_type": "code",
   "execution_count": 9,
   "metadata": {},
   "outputs": [],
   "source": []
  },
  {
   "cell_type": "code",
   "execution_count": 2,
   "metadata": {},
   "outputs": [],
   "source": [
    "def load_csv(path):\n",
    "    tran_list = []\n",
    "    with open(path, 'r') as file:\n",
    "        read = csv.DictReader(file, delimiter=';')\n",
    "        for word in read:\n",
    "            tran_list.append(word)\n",
    "    return tran_list\n",
    "\n",
    "list_word = load_csv('000.csv')"
   ]
  },
  {
   "cell_type": "code",
   "execution_count": 4,
   "metadata": {},
   "outputs": [
    {
     "name": "stdout",
     "output_type": "stream",
     "text": [
      "введдите: \n",
      "OrderedDict([('ru', ''), ('eng', ''), ('color', '')])\n",
      "0\n",
      "слово: привет\n",
      "введдите: 0\n"
     ]
    }
   ],
   "source": [
    "for ind, word in enumerate(list_word):\n",
    "    inp = input('введдите: ')\n",
    "    if inp == '1' or inp == '':\n",
    "        print(word)\n",
    "        print(ind)\n",
    "        inp_w = input('слово: ')\n",
    "        if inp_w == '' or inp_w == ' ' or inp_w == '  ':\n",
    "            pass\n",
    "        else:\n",
    "            list_word[ind]['ru']=inp_w\n",
    "    elif inp == '0':\n",
    "        break"
   ]
  },
  {
   "cell_type": "code",
   "execution_count": 22,
   "metadata": {},
   "outputs": [
    {
     "data": {
      "text/plain": [
       "[OrderedDict([('ru', 'память'), ('eng', ''), ('color', '')]),\n",
       " OrderedDict([('ru', 'сервис'), ('eng', ''), ('color', '')]),\n",
       " OrderedDict([('ru', 'пакет'), ('eng', ''), ('color', '')]),\n",
       " OrderedDict([('ru', 'большой'), ('eng', ''), ('color', '')]),\n",
       " OrderedDict([('ru', 'установка известно'), ('eng', ''), ('color', '')]),\n",
       " OrderedDict([('ru', 'глава голова главный'), ('eng', ''), ('color', '')]),\n",
       " OrderedDict([('ru', 'каталог'), ('eng', ''), ('color', '')]),\n",
       " OrderedDict([('ru', 'десятых'), ('eng', ''), ('color', '')]),\n",
       " OrderedDict([('ru', 'смотря'), ('eng', ''), ('color', '')]),\n",
       " OrderedDict([('ru', 'сообщение перевод'), ('eng', ''), ('color', '')]),\n",
       " OrderedDict([('ru', 'переключение'), ('eng', ''), ('color', '')]),\n",
       " OrderedDict([('ru', 'последовательно параллельно'),\n",
       "              ('eng', ''),\n",
       "              ('color', '')]),\n",
       " OrderedDict([('ru', 'полях'), ('eng', ''), ('color', '')]),\n",
       " OrderedDict([('ru', 'сказать'), ('eng', ''), ('color', '')]),\n",
       " OrderedDict([('ru', 'измерить'), ('eng', ''), ('color', '')]),\n",
       " OrderedDict([('ru', 'продукт'), ('eng', ''), ('color', '')]),\n",
       " OrderedDict([('ru', 'появление'), ('eng', ''), ('color', '')]),\n",
       " OrderedDict([('ru', 'потому'), ('eng', ''), ('color', '')]),\n",
       " OrderedDict([('ru', 'село расстояние'), ('eng', ''), ('color', '')]),\n",
       " OrderedDict([('ru', 'сетевой'), ('eng', ''), ('color', '')])]"
      ]
     },
     "execution_count": 22,
     "metadata": {},
     "output_type": "execute_result"
    }
   ],
   "source": [
    "list_word[80:100]"
   ]
  },
  {
   "cell_type": "code",
   "execution_count": 7,
   "metadata": {},
   "outputs": [],
   "source": [
    "def save(list_word):\n",
    "    '''Сохранение в csv раультата перебора'''\n",
    "    fieldnames = ['ru','eng','czech','color'] #установка заголовков столбцов\n",
    "    with open('1.csv','w',newline='') as file:\n",
    "        write = csv.DictWriter(file, delimiter=';', fieldnames=fieldnames)\n",
    "        write.writeheader()\n",
    "        for row in list_word:\n",
    "            write.writerow(row)"
   ]
  },
  {
   "cell_type": "code",
   "execution_count": 11,
   "metadata": {},
   "outputs": [
    {
     "data": {
      "text/plain": [
       "'привет'"
      ]
     },
     "execution_count": 11,
     "metadata": {},
     "output_type": "execute_result"
    }
   ],
   "source": [
    "list_word[0]['ru']"
   ]
  },
  {
   "cell_type": "code",
   "execution_count": 18,
   "metadata": {},
   "outputs": [],
   "source": [
    "list_of_ru = []\n",
    "for i in list_word[0:5]:\n",
    "    list_of_ru.append(i['ru'])"
   ]
  },
  {
   "cell_type": "code",
   "execution_count": 19,
   "metadata": {},
   "outputs": [
    {
     "data": {
      "text/plain": [
       "['привет', 'параметрыи', 'электриключ', 'очереди', 'предложено']"
      ]
     },
     "execution_count": 19,
     "metadata": {},
     "output_type": "execute_result"
    }
   ],
   "source": [
    "list_of_ru"
   ]
  },
  {
   "cell_type": "code",
   "execution_count": null,
   "metadata": {},
   "outputs": [],
   "source": []
  }
 ],
 "metadata": {
  "kernelspec": {
   "display_name": "Python 3",
   "language": "python",
   "name": "python3"
  },
  "language_info": {
   "codemirror_mode": {
    "name": "ipython",
    "version": 3
   },
   "file_extension": ".py",
   "mimetype": "text/x-python",
   "name": "python",
   "nbconvert_exporter": "python",
   "pygments_lexer": "ipython3",
   "version": "3.7.1"
  }
 },
 "nbformat": 4,
 "nbformat_minor": 2
}
